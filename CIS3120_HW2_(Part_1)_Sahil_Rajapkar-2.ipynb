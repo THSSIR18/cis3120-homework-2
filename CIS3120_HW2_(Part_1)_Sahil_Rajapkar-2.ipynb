{
  "nbformat": 4,
  "nbformat_minor": 0,
  "metadata": {
    "colab": {
      "name": "CIS3120 HW2 (Part 1) - Sahil Rajapkar",
      "provenance": []
    },
    "kernelspec": {
      "name": "python3",
      "display_name": "Python 3"
    },
    "language_info": {
      "name": "python"
    }
  },
  "cells": [
    {
      "cell_type": "code",
      "execution_count": 3,
      "metadata": {
        "colab": {
          "base_uri": "https://localhost:8080/",
          "height": 392
        },
        "id": "9fF_aqC1va81",
        "outputId": "bd9d4934-6466-4a3c-897b-6032fc281f8d"
      },
      "outputs": [
        {
          "output_type": "error",
          "ename": "ValueError",
          "evalue": "ignored",
          "traceback": [
            "\u001b[0;31m---------------------------------------------------------------------------\u001b[0m",
            "\u001b[0;31mValueError\u001b[0m                                Traceback (most recent call last)",
            "\u001b[0;32m<ipython-input-3-a98510d5508e>\u001b[0m in \u001b[0;36m<module>\u001b[0;34m()\u001b[0m\n\u001b[1;32m     43\u001b[0m     \u001b[0mdf\u001b[0m \u001b[0;34m=\u001b[0m \u001b[0mpd\u001b[0m\u001b[0;34m.\u001b[0m\u001b[0mread_csv\u001b[0m\u001b[0;34m(\u001b[0m\u001b[0mfilename\u001b[0m\u001b[0;34m,\u001b[0m \u001b[0mindex_col\u001b[0m\u001b[0;34m=\u001b[0m\u001b[0;32mNone\u001b[0m\u001b[0;34m)\u001b[0m\u001b[0;34m\u001b[0m\u001b[0;34m\u001b[0m\u001b[0m\n\u001b[1;32m     44\u001b[0m     \u001b[0mcontent\u001b[0m\u001b[0;34m.\u001b[0m\u001b[0mappend\u001b[0m\u001b[0;34m(\u001b[0m\u001b[0mdf\u001b[0m\u001b[0;34m)\u001b[0m\u001b[0;34m\u001b[0m\u001b[0;34m\u001b[0m\u001b[0m\n\u001b[0;32m---> 45\u001b[0;31m \u001b[0mdata_frame\u001b[0m \u001b[0;34m=\u001b[0m \u001b[0mpd\u001b[0m\u001b[0;34m.\u001b[0m\u001b[0mconcat\u001b[0m\u001b[0;34m(\u001b[0m\u001b[0mcontent\u001b[0m\u001b[0;34m)\u001b[0m\u001b[0;34m\u001b[0m\u001b[0;34m\u001b[0m\u001b[0m\n\u001b[0m\u001b[1;32m     46\u001b[0m \u001b[0;34m\u001b[0m\u001b[0m\n\u001b[1;32m     47\u001b[0m \u001b[0;31m#data_frame.dropna(inplace = True)\u001b[0m\u001b[0;34m\u001b[0m\u001b[0;34m\u001b[0m\u001b[0;34m\u001b[0m\u001b[0m\n",
            "\u001b[0;32m/usr/local/lib/python3.7/dist-packages/pandas/core/reshape/concat.py\u001b[0m in \u001b[0;36mconcat\u001b[0;34m(objs, axis, join, ignore_index, keys, levels, names, verify_integrity, sort, copy)\u001b[0m\n\u001b[1;32m    282\u001b[0m         \u001b[0mverify_integrity\u001b[0m\u001b[0;34m=\u001b[0m\u001b[0mverify_integrity\u001b[0m\u001b[0;34m,\u001b[0m\u001b[0;34m\u001b[0m\u001b[0;34m\u001b[0m\u001b[0m\n\u001b[1;32m    283\u001b[0m         \u001b[0mcopy\u001b[0m\u001b[0;34m=\u001b[0m\u001b[0mcopy\u001b[0m\u001b[0;34m,\u001b[0m\u001b[0;34m\u001b[0m\u001b[0;34m\u001b[0m\u001b[0m\n\u001b[0;32m--> 284\u001b[0;31m         \u001b[0msort\u001b[0m\u001b[0;34m=\u001b[0m\u001b[0msort\u001b[0m\u001b[0;34m,\u001b[0m\u001b[0;34m\u001b[0m\u001b[0;34m\u001b[0m\u001b[0m\n\u001b[0m\u001b[1;32m    285\u001b[0m     )\n\u001b[1;32m    286\u001b[0m \u001b[0;34m\u001b[0m\u001b[0m\n",
            "\u001b[0;32m/usr/local/lib/python3.7/dist-packages/pandas/core/reshape/concat.py\u001b[0m in \u001b[0;36m__init__\u001b[0;34m(self, objs, axis, join, keys, levels, names, ignore_index, verify_integrity, copy, sort)\u001b[0m\n\u001b[1;32m    329\u001b[0m \u001b[0;34m\u001b[0m\u001b[0m\n\u001b[1;32m    330\u001b[0m         \u001b[0;32mif\u001b[0m \u001b[0mlen\u001b[0m\u001b[0;34m(\u001b[0m\u001b[0mobjs\u001b[0m\u001b[0;34m)\u001b[0m \u001b[0;34m==\u001b[0m \u001b[0;36m0\u001b[0m\u001b[0;34m:\u001b[0m\u001b[0;34m\u001b[0m\u001b[0;34m\u001b[0m\u001b[0m\n\u001b[0;32m--> 331\u001b[0;31m             \u001b[0;32mraise\u001b[0m \u001b[0mValueError\u001b[0m\u001b[0;34m(\u001b[0m\u001b[0;34m\"No objects to concatenate\"\u001b[0m\u001b[0;34m)\u001b[0m\u001b[0;34m\u001b[0m\u001b[0;34m\u001b[0m\u001b[0m\n\u001b[0m\u001b[1;32m    332\u001b[0m \u001b[0;34m\u001b[0m\u001b[0m\n\u001b[1;32m    333\u001b[0m         \u001b[0;32mif\u001b[0m \u001b[0mkeys\u001b[0m \u001b[0;32mis\u001b[0m \u001b[0;32mNone\u001b[0m\u001b[0;34m:\u001b[0m\u001b[0;34m\u001b[0m\u001b[0;34m\u001b[0m\u001b[0m\n",
            "\u001b[0;31mValueError\u001b[0m: No objects to concatenate"
          ]
        }
      ],
      "source": [
        "from bs4 import BeautifulSoup\n",
        "import requests\n",
        "import pandas as pd\n",
        "import re\n",
        "import csv\n",
        "import glob\n",
        "     \n",
        "URL = 'https://en.wikipedia.org/wiki/List_of_National_Basketball_Association_career_scoring_leaders'\n",
        "\n",
        "'''\n",
        "file = open('ballplayers.csv')\n",
        "type(file)\n",
        "\n",
        "csvreader = csv.reader(file)\n",
        "'''\n",
        "\n",
        "response = requests.get(URL)\n",
        "soup = BeautifulSoup(response.text, 'html.parser')\n",
        "\n",
        "table = soup.find('table', {'class': 'wikitable sortable'}).tbody\n",
        "\n",
        "rows = table.find_all('tr')\n",
        "columns = [v.text.replace('\\n', '') for v in rows[0].find_all('th')]\n",
        "df = pd.DataFrame(columns=columns)\n",
        "\n",
        "for i in range(1, len(rows)):\n",
        "    tds = rows[i].find_all('td')\n",
        "   \n",
        "    if len(tds) ==4:\n",
        "        values = [tds[0].text, tds[1].text, \"\", tds[2].text, tds[3].text.replace('\\n',''.replace('\\xa0',''))]\n",
        "    else:\n",
        "        values = [td.text.replace('\\n',\"\").replace('\\xa0',\"\") for td in tds]\n",
        "   \n",
        "    df = df.append(pd.Series(values, index=columns), ignore_index=True)\n",
        "    df.to_csv(r'C:\\Users\\Sahil Rajapkar\\Desktop\\players' +\n",
        "              '\\\\ballplayers.csv', index=False)\n",
        "   \n",
        "path =\"players\"\n",
        "files = glob.glob(path + \"/*.csv\")\n",
        "data_frame = pd.DataFrame()\n",
        "content  = []\n",
        "for filename in files:\n",
        "    df = pd.read_csv(filename, index_col=None)\n",
        "    content.append(df)\n",
        "data_frame = pd.concat(content)\n",
        "\n",
        "#data_frame.dropna(inplace = True)\n",
        "\n",
        "stats1 = data_frame[\"Rank\"].describe()\n",
        "print(stats1)\n",
        "\n",
        "print(\"\")\n",
        "\n",
        "stats2 = data_frame[\"Points  per game[c]\"].describe()\n",
        "print(stats2)\n",
        "\n",
        "stats3 = data_frame.describe(include=\"all\")\n",
        "print(stats3)\n",
        "\n",
        "'''\n",
        "totalpoints = data_frame[\"Total points\"].describe()\n",
        "print(totalpoints)\n",
        "\n",
        "print(\"\")\n",
        "\n",
        "pointspergame = data_frame[\"Points per game\"].describe()\n",
        "print(pointspergame)\n",
        "'''\n"
      ]
    }
  ]
}